{
 "cells": [
  {
   "cell_type": "markdown",
   "metadata": {},
   "source": [
    "# Machine Learning Coursera \n",
    "\n",
    "Exercise 2.2 : Regularised Logistic regression\n",
    "\n",
    "In this exercise we will to predict whether microchips from a fabrication plant passes quality assurance (QA). During QA, each microchip goes through various tests to ensure it is functioning correctly.we already have test results for some microchips on two different tests (0 for rejected and 1 for accepted).From these two tests results we will determine whether the microchips should be accepted or rejected.\n",
    "\n",
    "## Initialization"
   ]
  },
  {
   "cell_type": "code",
   "execution_count": 1,
   "metadata": {
    "collapsed": true
   },
   "outputs": [],
   "source": [
    "import numpy as np\n",
    "import pandas as pd\n",
    "import matplotlib.pyplot as plt\n",
    "%matplotlib inline"
   ]
  },
  {
   "cell_type": "code",
   "execution_count": 2,
   "metadata": {
    "collapsed": false
   },
   "outputs": [
    {
     "data": {
      "text/html": [
       "<div>\n",
       "<table border=\"1\" class=\"dataframe\">\n",
       "  <thead>\n",
       "    <tr style=\"text-align: right;\">\n",
       "      <th></th>\n",
       "      <th>Test 1</th>\n",
       "      <th>Test 2</th>\n",
       "      <th>Status</th>\n",
       "    </tr>\n",
       "  </thead>\n",
       "  <tbody>\n",
       "    <tr>\n",
       "      <th>0</th>\n",
       "      <td>0.051267</td>\n",
       "      <td>0.69956</td>\n",
       "      <td>1</td>\n",
       "    </tr>\n",
       "    <tr>\n",
       "      <th>1</th>\n",
       "      <td>-0.092742</td>\n",
       "      <td>0.68494</td>\n",
       "      <td>1</td>\n",
       "    </tr>\n",
       "    <tr>\n",
       "      <th>2</th>\n",
       "      <td>-0.213710</td>\n",
       "      <td>0.69225</td>\n",
       "      <td>1</td>\n",
       "    </tr>\n",
       "    <tr>\n",
       "      <th>3</th>\n",
       "      <td>-0.375000</td>\n",
       "      <td>0.50219</td>\n",
       "      <td>1</td>\n",
       "    </tr>\n",
       "    <tr>\n",
       "      <th>4</th>\n",
       "      <td>-0.513250</td>\n",
       "      <td>0.46564</td>\n",
       "      <td>1</td>\n",
       "    </tr>\n",
       "  </tbody>\n",
       "</table>\n",
       "</div>"
      ],
      "text/plain": [
       "     Test 1   Test 2  Status\n",
       "0  0.051267  0.69956       1\n",
       "1 -0.092742  0.68494       1\n",
       "2 -0.213710  0.69225       1\n",
       "3 -0.375000  0.50219       1\n",
       "4 -0.513250  0.46564       1"
      ]
     },
     "execution_count": 2,
     "metadata": {},
     "output_type": "execute_result"
    }
   ],
   "source": [
    "data = pd.read_csv('ex2data2.txt', header=None, names=['Test 1', 'Test 2', 'Status'])\n",
    "data.head()"
   ]
  },
  {
   "cell_type": "markdown",
   "metadata": {},
   "source": [
    "Now we will plot the the data for better visualisation.Let's see how it look like.\n",
    "\n",
    "## ===================== Plotting ======================"
   ]
  },
  {
   "cell_type": "code",
   "execution_count": 3,
   "metadata": {
    "collapsed": false
   },
   "outputs": [],
   "source": [
    "def plotData() : \n",
    "    Accepted = data[data['Status'].isin([1])]\n",
    "    Rejected = data[data['Status'].isin([0])]\n",
    "\n",
    "    fig, ax = plt.subplots(figsize=(15,10))\n",
    "    ax.scatter(Accepted['Test 1'], Accepted['Test 2'], s=50, c='g', marker='o', label='Accepted')\n",
    "    ax.scatter(Rejected['Test 1'], Rejected['Test 2'], s=50, c='r', marker='+', label='Rejected')\n",
    "    ax.legend()\n",
    "    ax.set_xlabel('Test 1 Score')\n",
    "    ax.set_ylabel('Test 2 Score')"
   ]
  },
  {
   "cell_type": "code",
   "execution_count": 4,
   "metadata": {
    "collapsed": false
   },
   "outputs": [
    {
     "data": {
      "image/png": "[encoded data removed]",
      "text/plain": [
       "<matplotlib.figure.Figure at 0x7fc17718ce48>"
      ]
     },
     "metadata": {},
     "output_type": "display_data"
    }
   ],
   "source": [
    "plotData()"
   ]
  },
  {
   "cell_type": "code",
   "execution_count": 5,
   "metadata": {
    "collapsed": true
   },
   "outputs": [],
   "source": [
    "def sigmoid(z):                        ## defining sigmoid i.e, y = 1 /( 1 + e^(-ax + b))\n",
    "    return (1 /( 1 + np.exp(-z)))"
   ]
  },
  {
   "cell_type": "markdown",
   "metadata": {},
   "source": [
    "## ===================== Feature Mapping ======================\n",
    "\n",
    "Basically the data given is not linearly separable thus we add more features manually for the best decision boundary."
   ]
  },
  {
   "cell_type": "code",
   "execution_count": 6,
   "metadata": {
    "collapsed": false
   },
   "outputs": [],
   "source": [
    "def mapFeature(X1, X2) :\n",
    "    degree = 6\n",
    "    m = X1.shape[0]\n",
    "    new = np.ones(( m, sum(range(degree + 2)) ))\n",
    "    curr = 1\n",
    "    for i in range(1, degree+1):\n",
    "        for j in range(0, i+1):\n",
    "            new[:,curr] = np.power(X1, i-j) * np.power(X2, j)\n",
    "            curr += 1              \n",
    "    return new"
   ]
  },
  {
   "cell_type": "code",
   "execution_count": 7,
   "metadata": {
    "collapsed": false
   },
   "outputs": [],
   "source": [
    "X1 = data['Test 1']\n",
    "X2 = data['Test 2']\n",
    "\n",
    "data.insert(3, 'Ones', 1)\n",
    "X = mapFeature(X1, X2)\n",
    "#data.drop('Test 1', axis=1, inplace=True)\n",
    "#data.drop('Test 2', axis=1, inplace=True)\n",
    "#data"
   ]
  },
  {
   "cell_type": "markdown",
   "metadata": {},
   "source": [
    "This is the curve of sigmoid function now we will define cost function\n",
    "\n",
    "## ======================= Cost Function ======================\n",
    "\n",
    "As we know,\n",
    "        \n",
    "            Cost( h(x), y) = { -log( h(x)); if y = 1\n",
    "                               -log(1 - h(x)); if y = 0 }\n",
    "                               \n",
    "instead of defining both function we can rewrite it as,\n",
    "\n",
    "            Cost( h(x), y) = { - y*log( h(x)) - (1 - y)*log(1 - h(x))  \n",
    "            \n",
    "we will regularize logistic regression. As a result, we can avoid overfitting i.e,\n",
    "\n",
    "            Cost( h(x), y) = { - y*log( h(x)) - (1 - y)*log(1 - h(x))  + reg\n",
    "     \n",
    "                     where  reg = ( learning_rate / 2 * m ) * sum ( theta^2 )    \n",
    "\n",
    "now we will define the cost function to compute the error."
   ]
  },
  {
   "cell_type": "code",
   "execution_count": 8,
   "metadata": {
    "collapsed": false
   },
   "outputs": [],
   "source": [
    "def cost(theta, X, y, l):                         ## defining the cost function (error function) to compute cost\n",
    "    m = len(y)\n",
    "    J = 0\n",
    "    X = np.matrix(X)\n",
    "    y = np.matrix(y)\n",
    "    \n",
    "    h_theta = sigmoid(np.dot(X, theta))\n",
    "    \n",
    "    y1 = y * (np.log(h_theta))\n",
    "    \n",
    "    y2 = (1-y) * (np.log( 1 - h_theta )) \n",
    "#    print(X.shape, theta.shape, y.shape, h_theta.shape, y1.shape, y2.shape)\n",
    "    reg = ( float(l) / (2*m)) * np.power(theta[1:theta.shape[0]],2).sum()\n",
    "    J = -(1./m)*(y1 + y2).sum() + reg\n",
    "    \n",
    "    return J    "
   ]
  },
  {
   "cell_type": "code",
   "execution_count": 9,
   "metadata": {
    "collapsed": true
   },
   "outputs": [],
   "source": [
    "def Cost(theta, X, y, l):                         ## defining the cost function (error function) to compute cost\n",
    "    m = len(y)\n",
    "    J = 0\n",
    "    X = np.matrix(X)\n",
    "    y = np.matrix(y)\n",
    "    \n",
    "    h_theta = sigmoid(np.dot(X, theta)).T\n",
    "    \n",
    "    y1 = y * (np.log(h_theta))\n",
    "    \n",
    "    y2 = (1-y) * (np.log( 1 - h_theta )) \n",
    "#    print(X.shape, theta.shape, y.shape, h_theta.shape, y1.shape, y2.shape)\n",
    "    reg = ( float(l) / (2*m)) * np.power(theta[1:theta.shape[0]],2).sum()\n",
    "    J = -(1./m)*(y1 + y2).sum() + reg\n",
    "    \n",
    "    return J    "
   ]
  },
  {
   "cell_type": "code",
   "execution_count": 10,
   "metadata": {
    "collapsed": false
   },
   "outputs": [
    {
     "data": {
      "text/plain": [
       "0.69314718055994529"
      ]
     },
     "execution_count": 10,
     "metadata": {},
     "output_type": "execute_result"
    }
   ],
   "source": [
    "y = data['Status']\n",
    "lamda = 0.1\n",
    "#learning_rate = 1\n",
    "theta = np.zeros((X.shape[1],1))\n",
    "initial_cost = cost(theta, X, y, lamda)\n",
    "initial_cost"
   ]
  },
  {
   "cell_type": "markdown",
   "metadata": {},
   "source": [
    "This may be high cost and now we have to minimise it after optimizing the theta\n",
    "\n",
    "## ======================= Optimize Theta ======================="
   ]
  },
  {
   "cell_type": "code",
   "execution_count": 11,
   "metadata": {
    "collapsed": false
   },
   "outputs": [],
   "source": [
    "def Gradient(theta, X, y, lamda):\n",
    "#   print(theta.shape,X.shape,y.shape)\n",
    "    theta = np.matrix(theta)\n",
    "    X = np.matrix(X)\n",
    "    y = np.matrix(y)\n",
    "    h_theta = np.matrix(sigmoid(np.dot(X, theta)))\n",
    "    error = (h_theta - y.T)\n",
    "    print(h_theta.shape, y.shape)\n",
    "    grad = (1.0/118) * (X.transpose().dot(error))\n",
    "    grad[1:,:] =grad[1:,:]+(lamda/118)*theta[1:,:]\n",
    "    \n",
    "    return grad"
   ]
  },
  {
   "cell_type": "code",
   "execution_count": 12,
   "metadata": {
    "collapsed": true
   },
   "outputs": [],
   "source": [
    "def gradient(theta, X, y, lamda):\n",
    "#   print(theta.shape,X.shape,y.shape)\n",
    "    theta = np.matrix(theta)\n",
    "    X = np.matrix(X)\n",
    "    y = np.matrix(y)\n",
    "    h_theta = np.matrix(sigmoid(np.dot(X, theta.T)))\n",
    "    error = (h_theta - y.T)\n",
    "    print(h_theta.shape, y.shape, theta.shape, X.shape)\n",
    "    grad = (1.0/118) * (np.dot(X.T, error))\n",
    "    print(h_theta.shape, y.shape, theta.shape, X.shape, grad.shape)\n",
    "    grad = grad + ( lamda / 118 ) * theta \n",
    "    \n",
    "    return grad"
   ]
  },
  {
   "cell_type": "code",
   "execution_count": 13,
   "metadata": {
    "collapsed": false
   },
   "outputs": [
    {
     "name": "stdout",
     "output_type": "stream",
     "text": [
      "(118, 1) (1, 118)\n"
     ]
    }
   ],
   "source": [
    "grad = Gradient(theta, X, y, lamda)"
   ]
  },
  {
   "cell_type": "code",
   "execution_count": 14,
   "metadata": {
    "collapsed": false
   },
   "outputs": [],
   "source": [
    "import scipy.optimize as opt\n",
    "\n",
    "def optimizeTheta(theta, X, y, l):\n",
    "    result =  opt.fmin_bfgs(Cost, x0 = theta, args = (X, y , l))\n",
    "    return result"
   ]
  },
  {
   "cell_type": "code",
   "execution_count": 15,
   "metadata": {
    "collapsed": false
   },
   "outputs": [
    {
     "name": "stdout",
     "output_type": "stream",
     "text": [
      "Optimization terminated successfully.\n",
      "         Current function value: 0.394594\n",
      "         Iterations: 91\n",
      "         Function evaluations: 2760\n",
      "         Gradient evaluations: 92\n"
     ]
    },
    {
     "data": {
      "text/plain": [
       "array([ 2.75387795,  1.80509518,  2.95728951, -4.2141521 , -3.38139843,\n",
       "       -4.22754327,  0.74698711, -1.08013027, -0.46723567, -0.49721507,\n",
       "       -3.26667788,  0.52615718, -1.76682126, -1.20879173, -2.77314047,\n",
       "       -0.61886977, -0.4689006 ,  0.62141472, -1.13869881, -1.20528514,\n",
       "       -0.0941234 , -2.63058676,  0.44698594, -0.73800436,  0.42300664,\n",
       "       -1.14838944, -0.95609206, -1.15022854])"
      ]
     },
     "execution_count": 15,
     "metadata": {},
     "output_type": "execute_result"
    }
   ],
   "source": [
    "theta_new = optimizeTheta(theta,X,y,lamda)\n",
    "theta_new"
   ]
  },
  {
   "cell_type": "code",
   "execution_count": 16,
   "metadata": {
    "collapsed": false
   },
   "outputs": [
    {
     "data": {
      "text/plain": [
       "0.39459425928563296"
      ]
     },
     "execution_count": 16,
     "metadata": {},
     "output_type": "execute_result"
    }
   ],
   "source": [
    "Cost(theta_new, X, y, lamda)"
   ]
  },
  {
   "cell_type": "markdown",
   "metadata": {},
   "source": [
    "This is our minimum cost, now we will make prediction on the given Marks.\n",
    "\n",
    "## ======================= Prediction =======================\n",
    "\n"
   ]
  },
  {
   "cell_type": "code",
   "execution_count": 17,
   "metadata": {
    "collapsed": false
   },
   "outputs": [
    {
     "data": {
      "image/png": "[encoded data removed]",
      "text/plain": [
       "<matplotlib.figure.Figure at 0x7fc1735a9da0>"
      ]
     },
     "metadata": {},
     "output_type": "display_data"
    }
   ],
   "source": [
    "plotData()"
   ]
  },
  {
   "cell_type": "code",
   "execution_count": 18,
   "metadata": {
    "collapsed": false
   },
   "outputs": [],
   "source": [
    "def predict(theta, X):\n",
    "    \n",
    "    htheta = sigmoid(np.dot(X, theta))\n",
    "    \n",
    "    return np.array([1 if h > 0.5 else 0 for h in htheta])"
   ]
  },
  {
   "cell_type": "code",
   "execution_count": 19,
   "metadata": {
    "collapsed": false
   },
   "outputs": [
    {
     "name": "stdout",
     "output_type": "stream",
     "text": [
      "For a Microchip with Test scores\n",
      "     Test1    Test2\n",
      "0  0.14919 -0.57968\n",
      "It may be rejected\n"
     ]
    }
   ],
   "source": [
    "Test = pd.read_csv('testdata2.txt', header=None, names=['Test1', 'Test2'])\n",
    "Test.head()\n",
    "test1 = Test['Test1']\n",
    "test2 = Test['Test2']\n",
    "Test.insert(2, 'Ones', 1)\n",
    "T = mapFeature(test1, test2) \n",
    "probability = float(predict(theta_new, T))\n",
    "Test.drop('Ones', axis=1, inplace=True)\n",
    "print('For a Microchip with Test scores') \n",
    "print(Test)\n",
    "if probability > 0.5:\n",
    "    print('It may be accepted')\n",
    "else :\n",
    "    print('It may be rejected')"
   ]
  }
 ],
 "metadata": {
  "kernelspec": {
   "display_name": "Python 3",
   "language": "python",
   "name": "python3"
  },
  "language_info": {
   "codemirror_mode": {
    "name": "ipython",
    "version": 3
   },
   "file_extension": ".py",
   "mimetype": "text/x-python",
   "name": "python",
   "nbconvert_exporter": "python",
   "pygments_lexer": "ipython3",
   "version": "3.6.0"
  }
 },
 "nbformat": 4,
 "nbformat_minor": 2
}
